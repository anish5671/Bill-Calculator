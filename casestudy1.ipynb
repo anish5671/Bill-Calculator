{
  "nbformat": 4,
  "nbformat_minor": 0,
  "metadata": {
    "colab": {
      "provenance": [],
      "authorship_tag": "ABX9TyPD2mF2ffTFckMGcerofODA",
      "include_colab_link": true
    },
    "kernelspec": {
      "name": "python3",
      "display_name": "Python 3"
    },
    "language_info": {
      "name": "python"
    }
  },
  "cells": [
    {
      "cell_type": "markdown",
      "metadata": {
        "id": "view-in-github",
        "colab_type": "text"
      },
      "source": [
        "<a href=\"https://colab.research.google.com/github/anish5671/Bill-Calculator/blob/main/casestudy1.ipynb\" target=\"_parent\"><img src=\"https://colab.research.google.com/assets/colab-badge.svg\" alt=\"Open In Colab\"/></a>"
      ]
    },
    {
      "cell_type": "code",
      "execution_count": null,
      "metadata": {
        "id": "9hcDZNsjZvOt"
      },
      "outputs": [],
      "source": []
    },
    {
      "cell_type": "code",
      "source": [
        "print(\"Hello World\")"
      ],
      "metadata": {
        "colab": {
          "base_uri": "https://localhost:8080/"
        },
        "id": "s-AORac1Z0OV",
        "outputId": "036d7c91-665a-4b07-fb0d-49addef0fd25"
      },
      "execution_count": 2,
      "outputs": [
        {
          "output_type": "stream",
          "name": "stdout",
          "text": [
            "Hello World\n"
          ]
        }
      ]
    },
    {
      "cell_type": "code",
      "source": [
        "item1=float(input(\"Enter price of item1: \"))\n",
        "item2=float(input(\"Enter price of item2: \"))\n",
        "item3=float(input(\"Enter price of item3: \"))\n",
        "total_cost=item1+item2+item3\n",
        "if(total_cost>50):\n",
        "    print(\"Discount of 10% is provided\")\n",
        "    print(str(total_cost*0.9)+\"$\")\n",
        "else:\n",
        "    print(str(total_cost)+\"$\")"
      ],
      "metadata": {
        "colab": {
          "base_uri": "https://localhost:8080/"
        },
        "id": "oAVPai_UZ_1D",
        "outputId": "28486d6a-0ffd-4e16-db11-07d0d6092a54"
      },
      "execution_count": 7,
      "outputs": [
        {
          "output_type": "stream",
          "name": "stdout",
          "text": [
            "Enter price of item1: 50\n",
            "Enter price of item2: 50\n",
            "Enter price of item3: 50\n",
            "Discount of 10% is provided\n",
            "135.0$\n"
          ]
        }
      ]
    },
    {
      "cell_type": "code",
      "source": [],
      "metadata": {
        "id": "XRTFoZUmatx9"
      },
      "execution_count": null,
      "outputs": []
    }
  ]
}